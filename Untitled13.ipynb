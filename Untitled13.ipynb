{
  "nbformat": 4,
  "nbformat_minor": 0,
  "metadata": {
    "colab": {
      "provenance": []
    },
    "kernelspec": {
      "name": "python3",
      "display_name": "Python 3"
    },
    "language_info": {
      "name": "python"
    }
  },
  "cells": [
    {
      "cell_type": "markdown",
      "source": [
        "# Assignment_3"
      ],
      "metadata": {
        "id": "1AKSZ_XatOMx"
      }
    },
    {
      "cell_type": "code",
      "execution_count": 1,
      "metadata": {
        "colab": {
          "base_uri": "https://localhost:8080/"
        },
        "id": "uKPSJqx6oicd",
        "outputId": "a6eb053b-1641-4b99-8e6f-70d86835a5a9"
      },
      "outputs": [
        {
          "output_type": "stream",
          "name": "stdout",
          "text": [
            "Fibonacci sequence:\n",
            "0 1 1 2 3 5 8 13 21 34 "
          ]
        }
      ],
      "source": [
        "def fibonacci(n):\n",
        "    if n <= 1:\n",
        "        return n\n",
        "    else:\n",
        "        return fibonacci(n-1) + fibonacci(n-2)\n",
        "\n",
        "\n",
        "n_terms = 10\n",
        "print(\"Fibonacci sequence:\")\n",
        "for i in range(n_terms):\n",
        "    print(fibonacci(i), end=\" \")"
      ]
    },
    {
      "cell_type": "code",
      "source": [
        "def fibonacci(n):\n",
        "    if n == 0:\n",
        "        return 0\n",
        "    elif n == 1:\n",
        "        return 1\n",
        "    else:\n",
        "        return fibonacci(n-1) + fibonacci(n-2)\n",
        "\n",
        "\n",
        "terms = 8\n",
        "print(\"Fibonacci sequence:\")\n",
        "for i in range(terms):\n",
        "    print(fibonacci(i), end=\" \")"
      ],
      "metadata": {
        "colab": {
          "base_uri": "https://localhost:8080/"
        },
        "id": "vLBbowzxqLsB",
        "outputId": "17176247-b2be-4a93-aa5b-cfdc946dcc90"
      },
      "execution_count": 2,
      "outputs": [
        {
          "output_type": "stream",
          "name": "stdout",
          "text": [
            "Fibonacci sequence:\n",
            "0 1 1 2 3 5 8 13 "
          ]
        }
      ]
    },
    {
      "cell_type": "code",
      "source": [
        "def word_frequency(strings):\n",
        "    frequency = {}\n",
        "\n",
        "    for string in strings:\n",
        "        words = string.split()\n",
        "        for word in words:\n",
        "            word = word.lower()\n",
        "            if word in frequency:\n",
        "                frequency[word] += 1\n",
        "            else:\n",
        "                frequency[word] = 1\n",
        "\n",
        "    return frequency\n",
        "\n",
        "\n",
        "strings = [\n",
        "    \"This is a test string.\",\n",
        "    \"Another string for testing purposes.\",\n",
        "    \"This is a test string for counting words.\"\n",
        "]\n",
        "\n",
        "frequency = word_frequency(strings)\n",
        "\n",
        "\n",
        "print(\"Unique words and their frequencies:\")\n",
        "for word, freq in frequency.items():\n",
        "    print(f\"{word}: {freq}\")"
      ],
      "metadata": {
        "colab": {
          "base_uri": "https://localhost:8080/"
        },
        "id": "DnjtRCO_qZm2",
        "outputId": "22ae9156-9cf9-43f3-d403-34afa6f03012"
      },
      "execution_count": 3,
      "outputs": [
        {
          "output_type": "stream",
          "name": "stdout",
          "text": [
            "Unique words and their frequencies:\n",
            "this: 2\n",
            "is: 2\n",
            "a: 2\n",
            "test: 2\n",
            "string.: 1\n",
            "another: 1\n",
            "string: 2\n",
            "for: 2\n",
            "testing: 1\n",
            "purposes.: 1\n",
            "counting: 1\n",
            "words.: 1\n"
          ]
        }
      ]
    },
    {
      "cell_type": "code",
      "source": [
        "def find_pairs_with_sum(lst, target_sum):\n",
        "    pairs = []\n",
        "    seen = set()\n",
        "\n",
        "    for num in lst:\n",
        "        complement = target_sum - num\n",
        "        if complement in seen:\n",
        "            pairs.append((num, complement))\n",
        "        seen.add(num)\n",
        "\n",
        "    return pairs\n",
        "\n",
        "\n",
        "nums = [1, 2, 3, 4, 5, 6, 7, 8, 9]\n",
        "target = 10\n",
        "pairs = find_pairs_with_sum(nums, target)\n",
        "\n",
        "\n",
        "print(f\"Pairs with sum {target}:\")\n",
        "for pair in pairs:\n",
        "    print(pair)"
      ],
      "metadata": {
        "colab": {
          "base_uri": "https://localhost:8080/"
        },
        "id": "FyjUWCBDrhBx",
        "outputId": "04669eb3-f030-450e-a587-fafe892e114e"
      },
      "execution_count": 4,
      "outputs": [
        {
          "output_type": "stream",
          "name": "stdout",
          "text": [
            "Pairs with sum 10:\n",
            "(6, 4)\n",
            "(7, 3)\n",
            "(8, 2)\n",
            "(9, 1)\n"
          ]
        }
      ]
    },
    {
      "cell_type": "code",
      "source": [
        "def max_product_pair(nums):\n",
        "    if len(nums) < 2:\n",
        "        return \"List should contain at least two numbers\"\n",
        "\n",
        "    max1 = float('-inf')\n",
        "    max2 = float('-inf')\n",
        "\n",
        "    min1 = float('inf')\n",
        "    min2 = float('inf')\n",
        "\n",
        "    for num in nums:\n",
        "        if num > max1:\n",
        "            max2 = max1\n",
        "            max1 = num\n",
        "        elif num > max2:\n",
        "            max2 = num\n",
        "\n",
        "        if num < min1:\n",
        "            min2 = min1\n",
        "            min1 = num\n",
        "        elif num < min2:\n",
        "            min2 = num\n",
        "\n",
        "    product1 = max1 * max2\n",
        "    product2 = min1 * min2\n",
        "\n",
        "    if product1 > product2:\n",
        "        return max1, max2\n",
        "    else:\n",
        "        return min1, min2\n",
        "\n",
        "\n",
        "numbers = [1, 2, 3, 4, 5, 6, 7, 8, 9]\n",
        "result = max_product_pair(numbers)\n",
        "print(\"The two numbers whose product is maximum among all pairs:\", result)"
      ],
      "metadata": {
        "colab": {
          "base_uri": "https://localhost:8080/"
        },
        "id": "tKQxpHzjrnaU",
        "outputId": "7f99d5db-dc7f-4119-9237-59d5f6d41de4"
      },
      "execution_count": 5,
      "outputs": [
        {
          "output_type": "stream",
          "name": "stdout",
          "text": [
            "The two numbers whose product is maximum among all pairs: (9, 8)\n"
          ]
        }
      ]
    },
    {
      "cell_type": "code",
      "source": [
        "def is_prime(n):\n",
        "    if n <= 1:\n",
        "        return False\n",
        "    elif n <= 3:\n",
        "        return True\n",
        "    elif n % 2 == 0 or n % 3 == 0:\n",
        "        return False\n",
        "    i = 5\n",
        "    while i * i <= n:\n",
        "        if n % i == 0 or n % (i + 2) == 0:\n",
        "            return False\n",
        "        i += 6\n",
        "    return True\n",
        "\n",
        "\n",
        "num = 17\n",
        "if is_prime(num):\n",
        "    print(f\"{num} is a prime number\")\n",
        "else:\n",
        "    print(f\"{num} is not a prime number\")"
      ],
      "metadata": {
        "colab": {
          "base_uri": "https://localhost:8080/"
        },
        "id": "tmlpb7NTrvDM",
        "outputId": "9466baf6-4ee4-4f92-9958-b47ba4ce2fbb"
      },
      "execution_count": 6,
      "outputs": [
        {
          "output_type": "stream",
          "name": "stdout",
          "text": [
            "17 is a prime number\n"
          ]
        }
      ]
    },
    {
      "cell_type": "code",
      "source": [
        "def print_even_numbers(nums):\n",
        "    for num in nums:\n",
        "        if num % 2 == 0:\n",
        "            print(num)\n",
        "\n",
        "\n",
        "numbers = [1, 2, 3, 4, 5, 6, 7, 8, 9, 10]\n",
        "print(\"Even numbers:\")\n",
        "print_even_numbers(numbers)"
      ],
      "metadata": {
        "colab": {
          "base_uri": "https://localhost:8080/"
        },
        "id": "6tzAmf6gr3Nz",
        "outputId": "43a52956-ecb1-4205-f8cf-a3ad7893ac4c"
      },
      "execution_count": 7,
      "outputs": [
        {
          "output_type": "stream",
          "name": "stdout",
          "text": [
            "Even numbers:\n",
            "2\n",
            "4\n",
            "6\n",
            "8\n",
            "10\n"
          ]
        }
      ]
    },
    {
      "cell_type": "code",
      "source": [
        "def reverse_words(string):\n",
        "\n",
        "    words = string.split()\n",
        "\n",
        "    reversed_words = words[::-1]\n",
        "\n",
        "    reversed_string = ' '.join(reversed_words)\n",
        "    return reversed_string\n",
        "\n",
        "input_string = \"Hello world\"\n",
        "output_string = reverse_words(input_string)\n",
        "print(\"original string:\", input_string)\n",
        "print(\"Reversed string:\", output_string)"
      ],
      "metadata": {
        "colab": {
          "base_uri": "https://localhost:8080/"
        },
        "id": "Hb7H7ok6r82R",
        "outputId": "8a4f43f9-c1b5-4eb4-d58c-4dfda9a7dd47"
      },
      "execution_count": 11,
      "outputs": [
        {
          "output_type": "stream",
          "name": "stdout",
          "text": [
            "original string: Hello world\n",
            "Reversed string: world Hello\n"
          ]
        }
      ]
    },
    {
      "cell_type": "code",
      "source": [
        "def is_palindrome(x):\n",
        "    if x < 0:\n",
        "        return False\n",
        "    else:\n",
        "        return str(x) == str(x)[::-1]\n",
        "\n",
        "print(is_palindrome(121))\n",
        "print(is_palindrome(-121))\n",
        "print(is_palindrome(10))"
      ],
      "metadata": {
        "colab": {
          "base_uri": "https://localhost:8080/"
        },
        "id": "WKHv9nYwsnCg",
        "outputId": "33a0fc6e-477a-4129-bf1e-c5c1c68a0062"
      },
      "execution_count": 10,
      "outputs": [
        {
          "output_type": "stream",
          "name": "stdout",
          "text": [
            "True\n",
            "False\n",
            "False\n"
          ]
        }
      ]
    },
    {
      "cell_type": "code",
      "source": [
        "def is_palindrome(string):\n",
        "    clean_string = ''.join(char.lower() for char in string if char.isalnum())\n",
        "\n",
        "    return clean_string == clean_string[::-1]\n",
        "\n",
        "\n",
        "print(is_palindrome(\"A man, a plan, a canal, Panama\"))\n",
        "print(is_palindrome(\"racecar\"))  #\n",
        "print(is_palindrome(\"hello\"))"
      ],
      "metadata": {
        "colab": {
          "base_uri": "https://localhost:8080/"
        },
        "id": "gxQWNBQuswTC",
        "outputId": "bb1e6859-b64d-4275-9600-bd783812e496"
      },
      "execution_count": 12,
      "outputs": [
        {
          "output_type": "stream",
          "name": "stdout",
          "text": [
            "True\n",
            "True\n",
            "False\n"
          ]
        }
      ]
    },
    {
      "cell_type": "code",
      "source": [
        "def squares_list():\n",
        "\n",
        "    squares = [i ** 2 for i in range(1, 31)]\n",
        "    return squares\n",
        "\n",
        "\n",
        "squares = squares_list()\n",
        "print(\"Squares of numbers from 1 to 30:\")\n",
        "print(squares)"
      ],
      "metadata": {
        "colab": {
          "base_uri": "https://localhost:8080/"
        },
        "id": "gVnb8tl8s3XR",
        "outputId": "85b9885b-0f92-4ddf-dd88-a8ac72e02b36"
      },
      "execution_count": 13,
      "outputs": [
        {
          "output_type": "stream",
          "name": "stdout",
          "text": [
            "Squares of numbers from 1 to 30:\n",
            "[1, 4, 9, 16, 25, 36, 49, 64, 81, 100, 121, 144, 169, 196, 225, 256, 289, 324, 361, 400, 441, 484, 529, 576, 625, 676, 729, 784, 841, 900]\n"
          ]
        }
      ]
    },
    {
      "cell_type": "code",
      "source": [
        "from itertools import permutations\n",
        "\n",
        "def generate_permutations(lst):\n",
        "\n",
        "    permuted = permutations(lst)\n",
        "\n",
        "    result = [list(perm) for perm in permuted]\n",
        "    return result\n",
        "\n",
        "\n",
        "my_list = [1, 2, 3]\n",
        "permutations_list = generate_permutations(my_list)\n",
        "print(\"All permutations of the list:\", permutations_list)"
      ],
      "metadata": {
        "colab": {
          "base_uri": "https://localhost:8080/"
        },
        "id": "IhL9hdlas7d3",
        "outputId": "72e25799-95ef-447d-dffa-09af5dddac5e"
      },
      "execution_count": 14,
      "outputs": [
        {
          "output_type": "stream",
          "name": "stdout",
          "text": [
            "All permutations of the list: [[1, 2, 3], [1, 3, 2], [2, 1, 3], [2, 3, 1], [3, 1, 2], [3, 2, 1]]\n"
          ]
        }
      ]
    },
    {
      "cell_type": "code",
      "source": [
        "def outer_function():\n",
        "    def inner_function():\n",
        "        print(\"This is the inner function\")\n",
        "\n",
        "    print(\"This is the outer function\")\n",
        "    inner_function()\n",
        "\n",
        "\n",
        "outer_function()"
      ],
      "metadata": {
        "colab": {
          "base_uri": "https://localhost:8080/"
        },
        "id": "Ra6KPWwBtDsX",
        "outputId": "8905a8a4-85b6-4348-c192-6cf2e1ca3c71"
      },
      "execution_count": 15,
      "outputs": [
        {
          "output_type": "stream",
          "name": "stdout",
          "text": [
            "This is the outer function\n",
            "This is the inner function\n"
          ]
        }
      ]
    }
  ]
}